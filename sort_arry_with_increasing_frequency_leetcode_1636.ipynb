{
 "cells": [
  {
   "cell_type": "raw",
   "id": "cd0e85dd-b163-468e-8c69-0062370d23e3",
   "metadata": {},
   "source": [
    "Given an array of integers nums, sort the array in increasing order based on the frequency of the values. If multiple values have the same frequency, sort them in decreasing order.\n",
    "\n",
    "Return the sorted array.\n",
    "\n",
    " \n",
    "\n",
    "Example 1:\n",
    "\n",
    "Input: nums = [1,1,2,2,2,3]\n",
    "Output: [3,1,1,2,2,2]\n",
    "Explanation: '3' has a frequency of 1, '1' has a frequency of 2, and '2' has a frequency of 3.\n",
    "Example 2:\n",
    "\n",
    "Input: nums = [2,3,1,3,2]\n",
    "Output: [1,3,3,2,2]\n",
    "Explanation: '2' and '3' both have a frequency of 2, so they are sorted in decreasing order.\n",
    "Example 3:\n",
    "\n",
    "Input: nums = [-1,1,-6,4,5,-6,1,4,1]\n",
    "Output: [5,-1,4,4,-6,-6,1,1,1]\n",
    " \n",
    "\n",
    "Constraints:\n",
    "\n",
    "1 <= nums.length <= 100\n",
    "-100 <= nums[i] <= 100"
   ]
  },
  {
   "cell_type": "code",
   "execution_count": 47,
   "id": "3eb360ac-5a0b-4bd7-864e-21e4addb1723",
   "metadata": {},
   "outputs": [
    {
     "name": "stdout",
     "output_type": "stream",
     "text": [
      "[]\n",
      "[5, -1, 4, 4, -6, -6, 1, 1, 1]\n"
     ]
    }
   ],
   "source": [
    "def freq_count(array):\n",
    "    frequency_count = {}\n",
    "    for val in array:\n",
    "        if val in frequency_count:\n",
    "            frequency_count[val] += 1\n",
    "        else:\n",
    "            frequency_count[val] = 1\n",
    "    return frequency_count\n",
    "\n",
    "\n",
    "def frequencySort(array):\n",
    "    \"\"\"\n",
    "    Program to sort the given array based on the number of occurencess of the item in the given List.\n",
    "        Args:\n",
    "            Array: List of integers.\n",
    "        return:\n",
    "            Array: List of Integers with sorted based on their number of occurencess\n",
    "    \"\"\"\n",
    "    frequency_count = {}\n",
    "    for val in array:\n",
    "        if val in frequency_count:\n",
    "            frequency_count[val] += 1\n",
    "        else:\n",
    "            frequency_count[val] = 1\n",
    "    array.sort(key=lambda item: (frequency_count[item], - item))\n",
    "    return array\n",
    "\n",
    "print(frequencySort([]))\n",
    "print(frequencySort([-1,1,-6,4,5,-6,1,4,1]))"
   ]
  },
  {
   "cell_type": "code",
   "execution_count": 23,
   "id": "e0001b68-b0eb-42a2-9e1a-8ecda2b557e2",
   "metadata": {},
   "outputs": [
    {
     "data": {
      "text/plain": [
       "[1, 1, 2, 2, 2, 3]"
      ]
     },
     "execution_count": 23,
     "metadata": {},
     "output_type": "execute_result"
    }
   ],
   "source": [
    "frequency_count = frequencySort([1,1,2,2,2,3])\n",
    "sum(frequency_count.values(),[])\n",
    "# for item in frequency_count:\n",
    "#     print(frequency_count[item])\n",
    "\n",
    "# out = [sum(frequency_count[key], []) for key in frequency_count]\n",
    "# out"
   ]
  },
  {
   "cell_type": "code",
   "execution_count": 40,
   "id": "8b7209f1-0bb0-47bf-bc4e-f35e81e38785",
   "metadata": {},
   "outputs": [
    {
     "data": {
      "text/plain": [
       "[5, -1, 4, 4, -6, -6, 1, 1, 1]"
      ]
     },
     "execution_count": 40,
     "metadata": {},
     "output_type": "execute_result"
    }
   ],
   "source": [
    "from collections import Counter\n",
    "\n",
    "class Solution:\n",
    "    def frequencySort(self, nums):\n",
    "        freq = Counter(nums)\n",
    "        nums.sort(key=lambda x: (freq[x], -x))\n",
    "        return nums\n",
    "\n",
    "Solution().frequencySort([-1,1,-6,4,5,-6,1,4,1])"
   ]
  },
  {
   "cell_type": "code",
   "execution_count": 45,
   "id": "6d3de0e0-dcd9-4ba6-8cee-0fb948468fcc",
   "metadata": {},
   "outputs": [
    {
     "name": "stdout",
     "output_type": "stream",
     "text": [
      "Counter({1: 3, -6: 2, 4: 2, -1: 1, 5: 1})\n",
      "{-1: 1, 1: 3, -6: 2, 4: 2, 5: 1}\n"
     ]
    }
   ],
   "source": [
    "from collections import Counter as c\n",
    "\n",
    "freq = c([-1,1,-6,4,5,-6,1,4,1])\n",
    "\n",
    "freq1 = freq_count([-1,1,-6,4,5,-6,1,4,1])\n",
    "\n",
    "print(freq)\n",
    "print(freq1)"
   ]
  },
  {
   "cell_type": "code",
   "execution_count": null,
   "id": "d2265d6f-107d-4e14-9247-620c0dcb77ac",
   "metadata": {},
   "outputs": [],
   "source": []
  }
 ],
 "metadata": {
  "kernelspec": {
   "display_name": "Python 3 (ipykernel)",
   "language": "python",
   "name": "python3"
  },
  "language_info": {
   "codemirror_mode": {
    "name": "ipython",
    "version": 3
   },
   "file_extension": ".py",
   "mimetype": "text/x-python",
   "name": "python",
   "nbconvert_exporter": "python",
   "pygments_lexer": "ipython3",
   "version": "3.12.3"
  }
 },
 "nbformat": 4,
 "nbformat_minor": 5
}
